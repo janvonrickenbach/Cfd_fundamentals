{
 "metadata": {
  "name": ""
 },
 "nbformat": 3,
 "nbformat_minor": 0,
 "worksheets": [
  {
   "cells": [
    {
     "cell_type": "code",
     "collapsed": false,
     "input": [
      "import numpy as np\n",
      "import matplotlib.pyplot as pl\n",
      "import subprocess as sp\n",
      "import os\n",
      "from mpl_toolkits.mplot3d import Axes3D\n",
      "%matplotlib inline"
     ],
     "language": "python",
     "metadata": {},
     "outputs": [],
     "prompt_number": 9
    },
    {
     "cell_type": "code",
     "collapsed": false,
     "input": [
      "executable = \"../cfd_fundamentals/cfd_test/Debug/cfd_test\""
     ],
     "language": "python",
     "metadata": {},
     "outputs": [],
     "prompt_number": 10
    },
    {
     "cell_type": "code",
     "collapsed": false,
     "input": [
      "class input_file(dict):\n",
      "    def write(self,filename=\"input.txt\"):\n",
      "        fi=open(filename,\"w\")\n",
      "        for key,item in self.iteritems():\n",
      "            fi.write(\" \".join([key,str(item)]) + os.linesep)\n",
      "        fi.close()"
     ],
     "language": "python",
     "metadata": {},
     "outputs": [],
     "prompt_number": 37
    },
    {
     "cell_type": "code",
     "collapsed": false,
     "input": [
      "class var:\n",
      "    def __init__(self,varname,xcoord,ycoord):\n",
      "        self.nx = len(xcoord)\n",
      "        self.ny = len(ycoord)\n",
      "        self.varname = varname\n",
      "        self.data = []\n",
      "        self.x = xcoord\n",
      "        self.y = ycoord\n",
      "        \n",
      "    def get_from_fun(self,fun):\n",
      "        self.fun     = fun\n",
      "        for y_val in self.y:\n",
      "            for x_val in self.x:\n",
      "                self.data.append(fun(x_val,y_val))\n",
      "                \n",
      "    def write(self,time=0):\n",
      "        f = open(self.get_filename(time),\"w\")\n",
      "        f.write(\" \".join([str(item) for item in self.data]))\n",
      "        f.close()\n",
      "        \n",
      "    def read(self,time=0):\n",
      "        f = open(self.get_filename(time),\"r\")\n",
      "        self.data=[]\n",
      "        for line in f:\n",
      "            self.data = line.split()\n",
      "        f.close()\n",
      "        \n",
      "    def get_filename(self,time):\n",
      "        return self.varname + \"_\" + str(time)+ \".dat\"\n",
      "    \n",
      "    def get_mesh(self):\n",
      "        return np.reshape(self.data,(self.nx,self.ny))\n",
      "    def get_array(self):\n",
      "        return np.array(self.data,dtype=float)\n",
      "         "
     ],
     "language": "python",
     "metadata": {},
     "outputs": [],
     "prompt_number": 114
    },
    {
     "cell_type": "code",
     "collapsed": false,
     "input": [
      "# Testing input output\n",
      "# The test multiplies the values with 2\n",
      "def input_output():\n",
      "    def test(x,y):\n",
      "        return x**2+y**2\n",
      "    \n",
      "    def test2(x,y):\n",
      "        return 2*(x**2+y**2)\n",
      "    \n",
      "    inputs = input_file()\n",
      "    nx = 2\n",
      "    ny = 2\n",
      "    Lx = 1.\n",
      "    Ly = 1.\n",
      "    \n",
      "    inputs[\"nx\"] = nx\n",
      "    inputs[\"Lx\"]  = Lx\n",
      "    inputs[\"Ly\"]  = Ly\n",
      "    \n",
      "    inputs[\"ny\"] = ny\n",
      "    inputs[\"test_id\"] = 0\n",
      "    inputs.write()\n",
      "    \n",
      "    x_coords = np.linspace(0,inputs[\"Lx\"],inputs[\"nx\"])\n",
      "    y_coords = np.linspace(0,inputs[\"Ly\"],inputs[\"ny\"])\n",
      "    \n",
      "    data_w=var(\"streamfunction\",x_coords,y_coords)\n",
      "    data_w.get_from_fun(test)\n",
      "    data_w.write(0)\n",
      "    \n",
      "    data_t=var(\"streamfunction\",x_coords,y_coords)\n",
      "    data_t.get_from_fun(test2)\n",
      "    \n",
      "    data_r=var(\"streamfunction\",x_coords,y_coords)\n",
      "    data_r.read(1)\n",
      "    \n",
      "    sim = sp.Popen(executable,cwd=\".\",stdout=sp.PIPE)\n",
      "    sim.communicate()\n",
      "    \n",
      "    error = np.max(data_r.get_array()-data_t.get_array())\n",
      "    \n",
      "    if error < 1E-6:\n",
      "        return True\n",
      "    else:\n",
      "        return False"
     ],
     "language": "python",
     "metadata": {},
     "outputs": [],
     "prompt_number": 123
    },
    {
     "cell_type": "code",
     "collapsed": false,
     "input": [
      "tests = [input_output]\n",
      "output = []\n",
      "for test in tests:\n",
      "    output=test()\n",
      "\n",
      "print(\"Test summary\",output)"
     ],
     "language": "python",
     "metadata": {},
     "outputs": [
      {
       "output_type": "stream",
       "stream": "stdout",
       "text": [
        "('Test summary', False)\n"
       ]
      }
     ],
     "prompt_number": 132
    },
    {
     "cell_type": "code",
     "collapsed": false,
     "input": [],
     "language": "python",
     "metadata": {},
     "outputs": []
    }
   ],
   "metadata": {}
  }
 ]
}