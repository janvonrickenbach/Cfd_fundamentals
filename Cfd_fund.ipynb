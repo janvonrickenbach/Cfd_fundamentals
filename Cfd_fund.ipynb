{
 "metadata": {
  "name": ""
 },
 "nbformat": 3,
 "nbformat_minor": 0,
 "worksheets": [
  {
   "cells": [
    {
     "cell_type": "code",
     "collapsed": false,
     "input": [
      "import numpy as np\n",
      "import matplotlib.pyplot as pl\n",
      "import subprocess as sp\n",
      "import os\n",
      "from mpl_toolkits.mplot3d import Axes3D\n",
      "%matplotlib inline"
     ],
     "language": "python",
     "metadata": {},
     "outputs": [],
     "prompt_number": 9
    },
    {
     "cell_type": "code",
     "collapsed": false,
     "input": [
      "executable = \"../cfd_fundamentals/cfd_test/Debug/cfd_test\""
     ],
     "language": "python",
     "metadata": {},
     "outputs": [],
     "prompt_number": 570
    },
    {
     "cell_type": "code",
     "collapsed": false,
     "input": [
      "class input_file(dict):\n",
      "    def write(self,filename=\"input.txt\"):\n",
      "        fi=open(filename,\"w\")\n",
      "        for key,item in self.iteritems():\n",
      "            fi.write(\" \".join([key,str(item)]) + os.linesep)\n",
      "        fi.close()"
     ],
     "language": "python",
     "metadata": {},
     "outputs": [],
     "prompt_number": 571
    },
    {
     "cell_type": "code",
     "collapsed": false,
     "input": [
      "class var:\n",
      "    def __init__(self,varname,xcoord,ycoord):\n",
      "        self.nx = len(xcoord)\n",
      "        self.ny = len(ycoord)\n",
      "        self.varname = varname\n",
      "        self.data = []\n",
      "        self.x = xcoord\n",
      "        self.y = ycoord\n",
      "        \n",
      "    def get_from_fun(self,fun):\n",
      "        self.fun     = fun\n",
      "        for y_val in self.y:\n",
      "            for x_val in self.x:\n",
      "                self.data.append(fun(x_val,y_val))\n",
      "                \n",
      "    def write(self,time=0):\n",
      "        f = open(self.get_filename(time),\"w\")\n",
      "        f.write(\" \".join([ \"{:10.16e}\".format(item) for item in self.data]))\n",
      "        f.close()\n",
      "        \n",
      "    def read(self,time=0):\n",
      "        f = open(self.get_filename(time),\"r\")\n",
      "        self.data=[]\n",
      "        for line in f:\n",
      "            self.data = line.split()\n",
      "        f.close()\n",
      "        \n",
      "    def get_filename(self,time):\n",
      "        return self.varname + \"_\" + str(time)+ \".dat\"\n",
      "    \n",
      "    def get_mesh(self):\n",
      "        \n",
      "        return np.reshape(self.data,(self.nx,self.ny))\n",
      "    def get_array(self):\n",
      "        \n",
      "        return np.array(self.data,dtype=float)\n",
      "    \n",
      "    def set_bc(self,bc=0.):\n",
      "        ix = self.nx-1\n",
      "        for iy in range(self.ny):\n",
      "            self.data[iy*self.nx+ix]=bc\n",
      "        ix = 0\n",
      "        for iy in range(self.ny):\n",
      "            self.data[iy*self.nx+ix]=bc\n",
      "        iy = 0\n",
      "        for ix in range(self.nx):\n",
      "            self.data[iy*self.nx+ix]=bc    \n",
      "        iy = self.ny-1\n",
      "        for ix in range(self.nx):\n",
      "            self.data[iy*self.nx+ix]=bc  \n"
     ],
     "language": "python",
     "metadata": {},
     "outputs": [],
     "prompt_number": 572
    },
    {
     "cell_type": "code",
     "collapsed": false,
     "input": [
      "# Testing input output\n",
      "# The test multiplies the values with 2\n",
      "def input_output():\n",
      "    def test(x,y):\n",
      "        return x**2+y**2\n",
      "    \n",
      "    def test2(x,y):\n",
      "        return 2*(x**2+y**2)\n",
      "    \n",
      "    inputs = input_file()\n",
      "    nx = 2\n",
      "    ny = 2\n",
      "    Lx = 1.\n",
      "    Ly = 1.\n",
      "    \n",
      "    inputs[\"nx\"] = nx\n",
      "    inputs[\"Lx\"]  = Lx\n",
      "    inputs[\"Ly\"]  = Ly\n",
      "    \n",
      "    inputs[\"ny\"] = ny\n",
      "    inputs[\"test_id\"] = 0\n",
      "    inputs.write()\n",
      "    \n",
      "    x_coords = np.linspace(0,inputs[\"Lx\"],inputs[\"nx\"])\n",
      "    y_coords = np.linspace(0,inputs[\"Ly\"],inputs[\"ny\"])\n",
      "    \n",
      "    data_w=var(\"streamfunction\",x_coords,y_coords)\n",
      "    data_w.get_from_fun(test)\n",
      "    data_w.write(0)\n",
      "    \n",
      "    \n",
      "    data_t=var(\"streamfunction\",x_coords,y_coords)\n",
      "    data_t.get_from_fun(test2)\n",
      "\n",
      "    \n",
      "    sim = sp.Popen(executable,cwd=\".\",stdout=sp.PIPE)\n",
      "    sim.wait()\n",
      "    sim.communicate()\n",
      " \n",
      "    data_r=var(\"streamfunction\",x_coords,y_coords)\n",
      "    data_r.read(1)\n",
      "    \n",
      "    error = np.max(data_r.get_array()-data_t.get_array())\n",
      "    \n",
      "    if error < 1E-6:\n",
      "        return True\n",
      "    else:\n",
      "        return False"
     ],
     "language": "python",
     "metadata": {},
     "outputs": [],
     "prompt_number": 573
    },
    {
     "cell_type": "code",
     "collapsed": false,
     "input": [
      "def sor_simple():\n",
      "  error= sor_tests(65,65,1E-8,1)\n",
      "  print max(error)\n",
      "  if max(error)<1E-3:\n",
      "     return  True\n",
      "  else:\n",
      "     return False\n",
      "    \n",
      "def sor_tests(nx,ny,tol,omega,k=1,plot=True):\n",
      "    def test(x,y):\n",
      "        return 1.0\n",
      "    def zero_fun(x,y):\n",
      "        return 0.0\n",
      "    def sol_fun(x,y):\n",
      "        return np.sin(k*np.pi*x)*np.sin(k*np.pi*y)\n",
      "    def s_fun(x,y):\n",
      "        return -(k*np.pi)**2*2*np.sin(k*np.pi*x)*np.sin(k*np.pi*y)\n",
      "    \n",
      "    inputs = input_file()\n",
      "    Lx = 1.\n",
      "    Ly = 1.\n",
      "    \n",
      "    inputs[\"nx\"] = nx\n",
      "    inputs[\"Lx\"]  = Lx\n",
      "    inputs[\"Ly\"]  = Ly\n",
      "    \n",
      "    inputs[\"ny\"] = ny\n",
      "    inputs[\"tol\"] = tol\n",
      "    inputs[\"omega\"] = omega\n",
      "\n",
      "    inputs[\"test_id\"] = 1\n",
      "    inputs.write()\n",
      "    \n",
      "    x_coords = np.linspace(0,inputs[\"Lx\"],inputs[\"nx\"])\n",
      "    y_coords = np.linspace(0,inputs[\"Ly\"],inputs[\"ny\"])\n",
      "    \n",
      "    data_w=var(\"streamfunction\",x_coords,y_coords)\n",
      "    data_w.get_from_fun(test)\n",
      "    data_w.set_bc()\n",
      "    data_w.write(0)\n",
      "\n",
      "    data_s=var(\"stream_source\",x_coords,y_coords)\n",
      "    data_s.get_from_fun(s_fun)\n",
      "    data_s.write(0)\n",
      "    \n",
      "\n",
      "    data_t=var(\"streamfunction\",x_coords,y_coords)\n",
      "    data_t.get_from_fun(sol_fun)\n",
      "#    data_t.write(0)\n",
      "\n",
      "    \n",
      "    \n",
      "    sim = sp.Popen(executable,cwd=\".\",stdout=sp.PIPE)\n",
      "    sim.wait()\n",
      "    sim.communicate()\n",
      "    \n",
      "    \n",
      "    data_r=var(\"streamfunction\",x_coords,y_coords)\n",
      "    data_r.read(1)\n",
      "\n",
      "    if plot:    \n",
      "        fig=pl.figure()\n",
      "        ax=fig.add_subplot(1,1,1)\n",
      "        x,y = np.meshgrid(x_coords,y_coords)\n",
      "        p=ax.contourf(x,y,data_r.get_mesh())\n",
      "        pl.colorbar(p)\n",
      "    \n",
      "    error = np.abs(data_r.get_array()-data_t.get_array())\n",
      " \n",
      "    return error"
     ],
     "language": "python",
     "metadata": {},
     "outputs": [],
     "prompt_number": 622
    },
    {
     "cell_type": "code",
     "collapsed": false,
     "input": [
      "def euler_test(nx,ny,plot=True):\n",
      "\n",
      "\n",
      "\n",
      "    visc = 1.\n",
      "    dt = 1.\n",
      "    k=1\n",
      "    def test(x,y):\n",
      "        return 1.0\n",
      "    def sf_fun(x,y):\n",
      "        return -x + y\n",
      "    def sol_fun(x,y):\n",
      "        return np.sin(k*np.pi*x)*np.sin(k*np.pi*y)\n",
      "    def s_fun(x,y):\n",
      "        visc_part   = visc*(k*np.pi)**2*2*np.sin(k*np.pi*x)*np.sin(k*np.pi*y)\n",
      "        conv_part_x = np.pi * np.cos(k*np.pi*x)*np.sin(k*np.pi*y)\n",
      "        conv_part_y = np.pi * np.sin(k*np.pi*x)*np.cos(k*np.pi*y)\n",
      "\n",
      "        return visc_part + conv_part_x + conv_part_y\n",
      "    \n",
      "    inputs = input_file()\n",
      "    Lx = 1.\n",
      "    Ly = 1.\n",
      "    \n",
      "    inputs[\"nx\"]  = nx\n",
      "    inputs[\"Lx\"]  = Lx\n",
      "    inputs[\"Ly\"]  = Ly\n",
      "    \n",
      "    inputs[\"ny\"] = ny\n",
      "    inputs[\"tol\"] = tol\n",
      "    inputs[\"visc\"] = visc\n",
      "    inputs[\"dt\"]   = dt\n",
      "\n",
      "    inputs[\"test_id\"] = 2\n",
      "    inputs.write()\n",
      "    \n",
      "    x_coords = np.linspace(0,inputs[\"Lx\"],inputs[\"nx\"])\n",
      "    y_coords = np.linspace(0,inputs[\"Ly\"],inputs[\"ny\"])\n",
      "    \n",
      "    data_w=var(\"vorticity\",x_coords,y_coords)\n",
      "    data_w.get_from_fun(sol_fun)\n",
      "    data_w.write(0)\n",
      "\n",
      "    data_vs=var(\"vort_source\",x_coords,y_coords)\n",
      "    data_vs.get_from_fun(s_fun)\n",
      "    data_vs.write(0)\n",
      "    \n",
      "    data_s=var(\"streamfunction\",x_coords,y_coords)\n",
      "    data_s.get_from_fun(sf_fun)\n",
      "    data_s.write(0)\n",
      "    \n",
      "    \n",
      "    sim = sp.Popen(executable,cwd=\".\",stdout=sp.PIPE)\n",
      "    sim.wait()\n",
      "    sim.communicate()\n",
      "    \n",
      "    data_r=var(\"vorticity\",x_coords,y_coords)\n",
      "    data_r.read(1)\n",
      "\n",
      "    if plot:    \n",
      "        fig=pl.figure()\n",
      "        ax=fig.add_subplot(1,1,1)\n",
      "        x,y = np.meshgrid(x_coords,y_coords)\n",
      "        p=ax.contourf(x,y,data_r.get_mesh())\n",
      "        pl.colorbar(p)\n",
      "    \n",
      "    error = np.abs(data_r.get_array()-data_w.get_array())\n",
      "    \n",
      "    print(max(error))\n",
      "    return max(error)\n",
      "        \n",
      " \n",
      "\n",
      "def euler():\n",
      "  error = euler_test(257,257)\n",
      "  if error<1E-3:\n",
      "      return  True\n",
      "  else:\n",
      "      return False\n",
      "    \n"
     ],
     "language": "python",
     "metadata": {},
     "outputs": [],
     "prompt_number": 671
    },
    {
     "cell_type": "code",
     "collapsed": false,
     "input": [
      "tests = [input_output,sor_simple,euler]\n",
      "output = []\n",
      "for test in tests:\n",
      "    output.append(test())\n",
      "\n",
      "print(\"Test summary\",output)"
     ],
     "language": "python",
     "metadata": {},
     "outputs": [
      {
       "output_type": "stream",
       "stream": "stdout",
       "text": [
        "0.000204636663902\n",
        "0.000271052527795"
       ]
      },
      {
       "output_type": "stream",
       "stream": "stdout",
       "text": [
        "\n",
        "('Test summary', [True, True, True])\n"
       ]
      },
      {
       "metadata": {},
       "output_type": "display_data",
       "png": "[encoded data removed]",
       "text": [
        "<matplotlib.figure.Figure at 0x1001e5d0>"
       ]
      },
      {
       "metadata": {},
       "output_type": "display_data",
       "png": "[encoded data removed]",
       "text": [
        "<matplotlib.figure.Figure at 0x12d1d590>"
       ]
      }
     ],
     "prompt_number": 672
    },
    {
     "cell_type": "code",
     "collapsed": false,
     "input": [
      "error = []\n",
      "grids = [3,5,9,17,33,65]\n",
      "tolerances = [1E-1,1E-2,1E-3,1E-4,1E-5,1E-6]\n",
      "tolerances = [1E-1,1E-2,1E-3,1E-4]\n",
      "\n",
      "\n",
      "for tol in tolerances:\n",
      "    tol_error = []\n",
      "    for nx in grids:\n",
      "        tol_error.append(max(sor_tests(nx,nx,tol,1.3,k=2,plot=False)))\n",
      "    error.append(tol_error)\n"
     ],
     "language": "python",
     "metadata": {},
     "outputs": [],
     "prompt_number": 610
    },
    {
     "cell_type": "code",
     "collapsed": false,
     "input": [
      "for err in error:\n",
      "    pl.loglog(grids,err)\n",
      "pl.loglog(grids,1./np.array(grids)**2*3**2*error[0][0])"
     ],
     "language": "python",
     "metadata": {},
     "outputs": [
      {
       "metadata": {},
       "output_type": "pyout",
       "prompt_number": 611,
       "text": [
        "[<matplotlib.lines.Line2D at 0xdb3af50>]"
       ]
      },
      {
       "metadata": {},
       "output_type": "display_data",
       "png": "[encoded data removed]",
       "text": [
        "<matplotlib.figure.Figure at 0xa059dd0>"
       ]
      }
     ],
     "prompt_number": 611
    },
    {
     "cell_type": "code",
     "collapsed": false,
     "input": [
      "grids = [3,5,9,17,33,65,129,257]\n",
      "error = []\n",
      "for nx in grids:\n",
      "    error.append(euler_test(nx,nx,plot=False))\n",
      "pl.loglog(grids,error)    \n",
      "pl.loglog(grids,1./np.array(grids)**2*3**2*error[0])"
     ],
     "language": "python",
     "metadata": {},
     "outputs": [
      {
       "output_type": "stream",
       "stream": "stdout",
       "text": [
        "3.73921\n",
        "0.99404"
       ]
      },
      {
       "output_type": "stream",
       "stream": "stdout",
       "text": [
        "\n",
        "0.272066609407"
       ]
      },
      {
       "output_type": "stream",
       "stream": "stdout",
       "text": [
        "\n",
        "0.0686402337444\n",
        "0.0173161938487"
       ]
      },
      {
       "output_type": "stream",
       "stream": "stdout",
       "text": [
        "\n",
        "0.00433019384873"
       ]
      },
      {
       "output_type": "stream",
       "stream": "stdout",
       "text": [
        "\n",
        "0.00108280802704"
       ]
      },
      {
       "output_type": "stream",
       "stream": "stdout",
       "text": [
        "\n",
        "0.000271052527795"
       ]
      },
      {
       "output_type": "stream",
       "stream": "stdout",
       "text": [
        "\n"
       ]
      },
      {
       "metadata": {},
       "output_type": "pyout",
       "prompt_number": 670,
       "text": [
        "[<matplotlib.lines.Line2D at 0x9a48650>]"
       ]
      },
      {
       "metadata": {},
       "output_type": "display_data",
       "png": "[encoded data removed]",
       "text": [
        "<matplotlib.figure.Figure at 0x12408bd0>"
       ]
      }
     ],
     "prompt_number": 670
    },
    {
     "cell_type": "code",
     "collapsed": false,
     "input": [],
     "language": "python",
     "metadata": {},
     "outputs": []
    }
   ],
   "metadata": {}
  }
 ]
}