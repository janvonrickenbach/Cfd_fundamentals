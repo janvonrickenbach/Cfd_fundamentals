{
 "metadata": {
  "name": ""
 },
 "nbformat": 3,
 "nbformat_minor": 0,
 "worksheets": [
  {
   "cells": [
    {
     "cell_type": "code",
     "collapsed": false,
     "input": [
      "import numpy as np\n",
      "import matplotlib.pyplot as pl\n",
      "import subprocess as sp\n",
      "import os\n",
      "from mpl_toolkits.mplot3d import Axes3D\n",
      "%matplotlib inline"
     ],
     "language": "python",
     "metadata": {},
     "outputs": [],
     "prompt_number": 3
    },
    {
     "cell_type": "code",
     "collapsed": false,
     "input": [
      "executable = \"../cfd_fundamentals/cfd_test/Release/cfd_test\""
     ],
     "language": "python",
     "metadata": {},
     "outputs": [],
     "prompt_number": 185
    },
    {
     "cell_type": "code",
     "collapsed": false,
     "input": [
      "test_enum = {\"input_output\":0,\"sor\":1,\"euler\":2,\"cavity_sor\":3,\"cavity_adi\":4,\"TDM\":5,\"adi\":6}"
     ],
     "language": "python",
     "metadata": {},
     "outputs": [],
     "prompt_number": 131
    },
    {
     "cell_type": "code",
     "collapsed": false,
     "input": [
      "class input_file(dict):\n",
      "    def write(self,filename=\"input.txt\"):\n",
      "        fi=open(filename,\"w\")\n",
      "        for key,item in self.iteritems():\n",
      "            fi.write(\" \".join([key,str(item)]) + os.linesep)\n",
      "        fi.close()"
     ],
     "language": "python",
     "metadata": {},
     "outputs": [],
     "prompt_number": 28
    },
    {
     "cell_type": "code",
     "collapsed": false,
     "input": [
      "class var:\n",
      "    def __init__(self,varname,xcoord,ycoord):\n",
      "        self.nx = len(xcoord)\n",
      "        self.ny = len(ycoord)\n",
      "        self.varname = varname\n",
      "        self.data = []\n",
      "        self.x = xcoord\n",
      "        self.y = ycoord\n",
      "        \n",
      "    def get_from_fun(self,fun):\n",
      "        self.fun     = fun\n",
      "        for y_val in self.y:\n",
      "            for x_val in self.x:\n",
      "                self.data.append(fun(x_val,y_val))\n",
      "                \n",
      "    def write(self,time=0):\n",
      "        f = open(self.get_filename(time),\"w\")\n",
      "        f.write(\" \".join([ \"{:10.16e}\".format(item) for item in self.data]))\n",
      "        f.close()\n",
      "        \n",
      "    def read(self,time=0):\n",
      "        f = open(self.get_filename(time),\"r\")\n",
      "        self.data=[]\n",
      "        for line in f:\n",
      "            self.data = [float(item) for item in line.split()]\n",
      "        f.close()\n",
      "        \n",
      "    def get_filename(self,time):\n",
      "        return self.varname + \"_\" + str(time)+ \".dat\"\n",
      "    \n",
      "    def get_mesh(self):      \n",
      "        return np.reshape(self.data,(self.nx,self.ny))\n",
      "    \n",
      "    def get_ucenter(self):        \n",
      "        return np.reshape(self.data,(self.nx,self.ny))[:,self.nx/2]\n",
      "    \n",
      "    def get_vcenter(self):        \n",
      "        return np.reshape(self.data,(self.nx,self.ny))[self.ny/2,:]\n",
      "    \n",
      "    def get_array(self):\n",
      "        \n",
      "        return np.array(self.data,dtype=float)\n",
      "    \n",
      "    def set_bc(self,bc=0.):\n",
      "        ix = self.nx-1\n",
      "        for iy in range(self.ny):\n",
      "            self.data[iy*self.nx+ix]=bc\n",
      "        ix = 0\n",
      "        for iy in range(self.ny):\n",
      "            self.data[iy*self.nx+ix]=bc\n",
      "        iy = 0\n",
      "        for ix in range(self.nx):\n",
      "            self.data[iy*self.nx+ix]=bc    \n",
      "        iy = self.ny-1\n",
      "        for ix in range(self.nx):\n",
      "            self.data[iy*self.nx+ix]=bc  \n"
     ],
     "language": "python",
     "metadata": {},
     "outputs": [],
     "prompt_number": 6
    },
    {
     "cell_type": "code",
     "collapsed": false,
     "input": [
      "# Testing input output\n",
      "# The test multiplies the values with 2\n",
      "def input_output():\n",
      "    def test(x,y):\n",
      "        return x**2+y**2\n",
      "    \n",
      "    def test2(x,y):\n",
      "        return 2*(x**2+y**2)\n",
      "    \n",
      "    inputs = input_file()\n",
      "    nx = 2\n",
      "    ny = 2\n",
      "    Lx = 1.\n",
      "    Ly = 1.\n",
      "    \n",
      "    inputs[\"nx\"] = nx\n",
      "    inputs[\"Lx\"]  = Lx\n",
      "    inputs[\"Ly\"]  = Ly\n",
      "    \n",
      "    inputs[\"ny\"] = ny\n",
      "    inputs[\"test_id\"] = test_enum[\"input_output\"]\n",
      "    inputs.write()\n",
      "    \n",
      "    x_coords = np.linspace(0,inputs[\"Lx\"],inputs[\"nx\"])\n",
      "    y_coords = np.linspace(0,inputs[\"Ly\"],inputs[\"ny\"])\n",
      "    \n",
      "    data_w=var(\"streamfunction\",x_coords,y_coords)\n",
      "    data_w.get_from_fun(test)\n",
      "    data_w.write(0)\n",
      "    \n",
      "    \n",
      "    data_t=var(\"streamfunction\",x_coords,y_coords)\n",
      "    data_t.get_from_fun(test2)\n",
      "\n",
      "    \n",
      "    sim = sp.Popen(executable,cwd=\".\",stdout=sp.PIPE)\n",
      "    sim.wait()\n",
      "    sim.communicate()\n",
      " \n",
      "    data_r=var(\"streamfunction\",x_coords,y_coords)\n",
      "    data_r.read(1)\n",
      "    \n",
      "    error = np.max(data_r.get_array()-data_t.get_array())\n",
      "    \n",
      "    if error < 1E-6:\n",
      "        return True\n",
      "    else:\n",
      "        return False"
     ],
     "language": "python",
     "metadata": {},
     "outputs": [],
     "prompt_number": 132
    },
    {
     "cell_type": "code",
     "collapsed": false,
     "input": [
      "def sor_simple():\n",
      "  error= solver_tests(65,65,1E-8,1.3,\"sor\",plot=False)\n",
      "  print max(error)\n",
      "  if max(error)<1E-3:\n",
      "     return  True\n",
      "  else:\n",
      "     return False\n",
      "    \n",
      "def adi_simple():\n",
      "  error= solver_tests(65,65,1E-8,1.3,\"adi\",plot=True)\n",
      "  print max(error)\n",
      "  if max(error)<1E-3:\n",
      "     return  True\n",
      "  else:\n",
      "     return False\n",
      "    \n",
      "def solver_tests(nx,ny,tol,omega,solver,plot=True):\n",
      "    def one_fun(x,y):\n",
      "        return 1.0\n",
      "    def sol_fun(x,y):\n",
      "        return np.sin(np.pi*x)*np.sin(np.pi*y)\n",
      "    def src_fun(x,y):\n",
      "        return -(np.pi)**2*2*np.sin(np.pi*x)*np.sin(np.pi*y)\n",
      "    \n",
      "    inputs = input_file()\n",
      "    Lx = 1.\n",
      "    Ly = 1.\n",
      "    inputs[\"nx\"]    = nx\n",
      "    inputs[\"Lx\"]    = Lx\n",
      "    inputs[\"Ly\"]    = Ly\n",
      "    inputs[\"ny\"]   = ny\n",
      "    inputs[\"tol\"]   = tol\n",
      "    inputs[\"omega\"] = omega\n",
      "\n",
      "    if solver == \"sor\":\n",
      "        inputs[\"test_id\"] = test_enum[\"sor\"]\n",
      "    elif solver == \"adi\":\n",
      "        inputs[\"test_id\"] = test_enum[\"adi\"]\n",
      "        \n",
      "    inputs.write()\n",
      "    \n",
      "    x_coords = np.linspace(0,inputs[\"Lx\"],inputs[\"nx\"])\n",
      "    y_coords = np.linspace(0,inputs[\"Ly\"],inputs[\"ny\"])\n",
      "    \n",
      "    data_w=var(\"streamfunction\",x_coords,y_coords)\n",
      "    data_w.get_from_fun(one_fun)\n",
      "    data_w.set_bc()\n",
      "    data_w.write(0)\n",
      "\n",
      "    data_s=var(\"stream_source\",x_coords,y_coords)\n",
      "    data_s.get_from_fun(src_fun)\n",
      "    data_s.write(0)\n",
      "    \n",
      "    data_t=var(\"streamfunction\",x_coords,y_coords)\n",
      "    data_t.get_from_fun(sol_fun)\n",
      "   \n",
      "    sim = sp.Popen(executable,cwd=\".\",stdout=sp.PIPE)\n",
      "    sim.wait()\n",
      "    sim.communicate()\n",
      "        \n",
      "    data_r=var(\"streamfunction\",x_coords,y_coords)\n",
      "    data_r.read(1)\n",
      "\n",
      "    if plot:    \n",
      "        fig=pl.figure()\n",
      "        ax=fig.add_subplot(1,1,1)\n",
      "        x,y = np.meshgrid(x_coords,y_coords)\n",
      "        p=ax.contourf(x,y,data_r.get_mesh())\n",
      "        pl.colorbar(p)\n",
      "    \n",
      "    error = np.abs(data_r.get_array()-data_t.get_array())\n",
      " \n",
      "    return error"
     ],
     "language": "python",
     "metadata": {},
     "outputs": [],
     "prompt_number": 247
    },
    {
     "cell_type": "code",
     "collapsed": false,
     "input": [
      "def euler_test(nx,ny,plot=True):\n",
      "    visc = 1.\n",
      "    dt = 1.\n",
      "    k=1\n",
      "    def one_fun(x,y):\n",
      "        return 1.0\n",
      "    def sf_fun(x,y):\n",
      "        return -x + y\n",
      "    def sol_fun(x,y):\n",
      "        return np.sin(np.pi*x)*np.sin(np.pi*y)\n",
      "    def src_fun(x,y):\n",
      "        visc_part   = visc*(np.pi)**2*2*np.sin(np.pi*x)*np.sin(np.pi*y)\n",
      "        conv_part_x = np.pi * np.cos(np.pi*x)*np.sin(np.pi*y)\n",
      "        conv_part_y = np.pi * np.sin(np.pi*x)*np.cos(np.pi*y)\n",
      "\n",
      "        return visc_part + conv_part_x + conv_part_y\n",
      "    \n",
      "    inputs = input_file()\n",
      "    Lx = 1.\n",
      "    Ly = 1.\n",
      "    \n",
      "    inputs[\"nx\"]  = nx\n",
      "    inputs[\"Lx\"]  = Lx\n",
      "    inputs[\"Ly\"]  = Ly\n",
      "    inputs[\"ny\"] = ny\n",
      "    inputs[\"visc\"] = visc\n",
      "    inputs[\"dt\"]   = dt\n",
      "    inputs[\"test_id\"] = test_enum[\"euler\"]\n",
      "    \n",
      "    inputs.write()\n",
      "    \n",
      "    x_coords = np.linspace(0,inputs[\"Lx\"],inputs[\"nx\"])\n",
      "    y_coords = np.linspace(0,inputs[\"Ly\"],inputs[\"ny\"])\n",
      "    \n",
      "    data_w=var(\"vorticity\",x_coords,y_coords)\n",
      "    data_w.get_from_fun(sol_fun)\n",
      "    data_w.write(0)\n",
      "\n",
      "    data_vs=var(\"vort_source\",x_coords,y_coords)\n",
      "    data_vs.get_from_fun(src_fun)\n",
      "    data_vs.write(0)\n",
      "    \n",
      "    data_s=var(\"streamfunction\",x_coords,y_coords)\n",
      "    data_s.get_from_fun(sf_fun)\n",
      "    data_s.write(0)\n",
      "    \n",
      "    \n",
      "    sim = sp.Popen(executable,cwd=\".\",stdout=sp.PIPE)\n",
      "    sim.wait()\n",
      "    sim.communicate()\n",
      "    \n",
      "    data_r=var(\"vorticity\",x_coords,y_coords)\n",
      "    data_r.read(1)\n",
      "    \n",
      "    data_s=var(\"vorticity\",x_coords,y_coords)\n",
      "    data_s.get_from_fun(sol_fun)\n",
      "\n",
      "    if plot:    \n",
      "        fig=pl.figure()\n",
      "        ax=fig.add_subplot(1,1,1)\n",
      "        x,y = np.meshgrid(x_coords,y_coords)\n",
      "        p=ax.contourf(x,y,data_r.get_mesh())\n",
      "        pl.colorbar(p)\n",
      "    \n",
      "    error = np.abs(data_r.get_array()-data_s.get_array())\n",
      "\n",
      "    return max(error)\n",
      "        \n",
      " \n",
      "\n",
      "def euler():\n",
      "  error = euler_test(257,257,plot=True)\n",
      "  print(error)\n",
      "  if error<1E-3:\n",
      "      return  True\n",
      "  else:\n",
      "      return False\n",
      "    \n"
     ],
     "language": "python",
     "metadata": {},
     "outputs": [],
     "prompt_number": 59
    },
    {
     "cell_type": "code",
     "collapsed": false,
     "input": [
      "def test_cavity(re,cfl,n,solver,plot=False,max_dt=1,restart=False):\n",
      "    visc = 1./re\n",
      "    dt = 1.\n",
      "    k=1\n",
      "    def zero_fun(x,y):\n",
      "        return 0.0\n",
      " \n",
      "    inputs = input_file()\n",
      "    Lx = 1.\n",
      "    Ly = 1.\n",
      "    \n",
      "    \n",
      "    inputs[\"nx\"]  = n\n",
      "    inputs[\"Lx\"]  = Lx\n",
      "    inputs[\"Ly\"]  = Ly\n",
      "    inputs[\"ny\"] = n\n",
      "    inputs[\"visc\"] = visc\n",
      "    inputs[\"dt\"]   = Lx/n*cfl\n",
      "    inputs[\"tol\"]   = 1E-5\n",
      "    inputs[\"omega\"]   = 1.3\n",
      "    inputs[\"max_dt\"]   = max_dt\n",
      "    if solver == \"sor\":\n",
      "        inputs[\"test_id\"] = test_enum[\"cavity_sor\"]\n",
      "    elif solver == \"adi\":\n",
      "         inputs[\"test_id\"] = test_enum[\"cavity_adi\"]\n",
      "\n",
      "    inputs.write()\n",
      "    \n",
      "    x_coords = np.linspace(0,inputs[\"Lx\"],inputs[\"nx\"])\n",
      "    y_coords = np.linspace(0,inputs[\"Ly\"],inputs[\"ny\"])\n",
      "    \n",
      "    data_w=var(\"vorticity\",x_coords,y_coords)\n",
      "    data_w.get_from_fun(zero_fun)\n",
      "    data_w.write(0)\n",
      "    \n",
      "    data_s=var(\"streamfunction\",x_coords,y_coords)\n",
      "    data_s.get_from_fun(zero_fun)\n",
      "    data_s.write(0)\n",
      "\n",
      "    if restart:\n",
      "        data_w=var(\"vorticity\",x_coords,y_coords)\n",
      "        data_w.read(max_dt-1)\n",
      "        data_w.write(0)\n",
      "    \n",
      "        data_s=var(\"streamfunction\",x_coords,y_coords)\n",
      "        data_s.read(max_dt-1)\n",
      "        data_s.write(0)\n",
      "    \n",
      "    sim = sp.Popen(executable,cwd=\".\",stdout=sp.PIPE,stderr=sp.PIPE)\n",
      "\n",
      "    for line in sim.communicate():\n",
      "        print(line)\n",
      "\n",
      "    data_u=var(\"uvel\",x_coords,y_coords)\n",
      "    data_u.read(max_dt-1)\n",
      "    data_v=var(\"vvel\",x_coords,y_coords)\n",
      "    data_v.read(max_dt-1)\n",
      "\n",
      "    fig1 = pl.figure()\n",
      "    ax1=fig1.add_subplot(1,1,1)\n",
      "    \n",
      "\n",
      "    ax1.plot(y_coords,data_u.get_ucenter())\n",
      "    ax1.plot(x_coords,data_v.get_vcenter())\n",
      " \n",
      "#    data_u.read(max_dt/2)\n",
      "#    data_v.read(max_dt/2)\n",
      "    \n",
      "#    ax1.plot(y_coords,data_u.get_ucenter(),':')\n",
      "#    ax1.plot(x_coords,data_v.get_vcenter(),':')\n",
      "      \n",
      "    ref_u = np.genfromtxt(\"GhiaEtAl-uy-Re\"+str(int(re))+\".dat\")\n",
      "    ref_v = np.genfromtxt(\"GhiaEtAl-vx-Re\"+str(int(re))+\".dat\")  \n",
      "    ax1.plot(ref_u[:,0],ref_u[:,1],'o')\n",
      "    ax1.plot(ref_v[:,0],ref_v[:,1],'o')\n",
      "\n",
      "    if plot:    \n",
      "        fig2=pl.figure()\n",
      "        ax2=fig2.add_subplot(1,1,1)\n",
      "        x,y = np.meshgrid(x_coords,y_coords)\n",
      "\n",
      "        p=ax2.contourf(x,y,data_u.get_mesh())\n",
      "\n",
      "        pl.colorbar(p)\n",
      "    \n",
      "\n",
      "\n",
      "def cavity():\n",
      " nx = 257\n",
      " %time   test_cavity(100.,0.1,nx,\"sor\",plot=True,max_dt=10000)\n",
      " %time   test_cavity(100.,0.1,nx,\"adi\",plot=True,max_dt=10000)\n",
      "\n",
      " %time  test_cavity(1000.,0.5,nx,\"sor\",plot=True,max_dt=10000,restart=False)\n",
      " %time  test_cavity(1000.,0.5,nx,\"adi\",plot=True,max_dt=10000,restart=False)\n",
      "    \n"
     ],
     "language": "python",
     "metadata": {},
     "outputs": [],
     "prompt_number": 222
    },
    {
     "cell_type": "code",
     "collapsed": false,
     "input": [
      "0.5/(2*1.29)"
     ],
     "language": "python",
     "metadata": {},
     "outputs": [
      {
       "metadata": {},
       "output_type": "pyout",
       "prompt_number": 223,
       "text": [
        "0.19379844961240308"
       ]
      }
     ],
     "prompt_number": 223
    },
    {
     "cell_type": "code",
     "collapsed": false,
     "input": [
      "cavity()"
     ],
     "language": "python",
     "metadata": {},
     "outputs": [
      {
       "output_type": "stream",
       "stream": "stdout",
       "text": [
        "Initializing\n",
        "At t=0.000389105\n",
        "Solver converged in 54 iterations\n",
        "At t=0.389494\n",
        "Solver converged in 1 iterations\n",
        "At t=0.778599\n",
        "Solver converged in 1 iterations\n",
        "At t=1.1677\n",
        "Solver converged in 1 iterations\n",
        "At t=1.55681\n",
        "Solver converged in 1 iterations\n",
        "At t=1.94591\n",
        "Solver converged in 1 iterations\n",
        "At t=2.33502\n",
        "Solver converged in 1 iterations\n",
        "At t=2.72412\n",
        "Solver converged in 1 iterations\n",
        "At t=3.11323\n",
        "Solver converged in 1 iterations\n",
        "At t=3.50233\n",
        "Solver converged in 1 iterations\n",
        "At t=3.89105\n",
        "Solver converged in 1 iterations\n",
        "\n",
        "\n",
        "CPU times: user 588 ms, sys: 24 ms, total: 612 ms"
       ]
      },
      {
       "output_type": "stream",
       "stream": "stdout",
       "text": [
        "\n",
        "Wall time: 6min 37s\n",
        "Initializing\n",
        "At t=0.000389105\n",
        "Solver converged in 11 iterations\n",
        "At t=0.389494\n",
        "Solver converged in 1 iterations\n",
        "At t=0.778599\n",
        "Solver converged in 1 iterations\n",
        "At t=1.1677\n",
        "Solver converged in 1 iterations\n",
        "At t=1.55681\n",
        "Solver converged in 1 iterations\n",
        "At t=1.94591\n",
        "Solver converged in 1 iterations\n",
        "At t=2.33502\n",
        "Solver converged in 1 iterations\n",
        "At t=2.72412\n",
        "Solver converged in 1 iterations\n",
        "At t=3.11323\n",
        "Solver converged in 1 iterations\n",
        "At t=3.50233\n",
        "Solver converged in 1 iterations\n",
        "At t=3.89105\n",
        "Solver converged in 1 iterations\n"
       ]
      },
      {
       "output_type": "stream",
       "stream": "stdout",
       "text": [
        "\n",
        "\n",
        "CPU times: user 476 ms, sys: 28 ms, total: 504 ms"
       ]
      },
      {
       "output_type": "stream",
       "stream": "stdout",
       "text": [
        "\n",
        "Wall time: 8min 48s\n",
        "Initializing\n",
        "At t=0.00194553\n",
        "Solver converged in 28 iterations\n",
        "At t=1.94747\n",
        "Solver converged in 7 iterations\n",
        "At t=3.893\n",
        "Solver converged in 4 iterations\n",
        "At t=5.83852\n",
        "Solver converged in 3 iterations\n",
        "At t=7.78405\n",
        "Solver converged in 1 iterations\n",
        "At t=9.72957\n",
        "Solver converged in 1 iterations\n",
        "At t=11.6751\n",
        "Solver converged in 1 iterations\n",
        "At t=13.6206\n",
        "Solver converged in 1 iterations\n",
        "At t=15.5661\n",
        "Solver converged in 1 iterations\n",
        "At t=17.5117\n",
        "Solver converged in 1 iterations\n",
        "At t=19.4553\n",
        "Solver converged in 1 iterations\n"
       ]
      },
      {
       "output_type": "stream",
       "stream": "stdout",
       "text": [
        "\n",
        "\n",
        "CPU times: user 472 ms, sys: 20 ms, total: 492 ms"
       ]
      },
      {
       "output_type": "stream",
       "stream": "stdout",
       "text": [
        "\n",
        "Wall time: 2min 47s\n",
        "Initializing\n",
        "At t=0.00194553\n",
        "Solver converged in 11 iterations\n",
        "At t=1.94747\n",
        "Solver converged in 1 iterations\n",
        "At t=3.893\n",
        "Solver converged in 1 iterations\n",
        "At t=5.83852\n",
        "Solver converged in 1 iterations\n",
        "At t=7.78405\n",
        "Solver converged in 1 iterations\n",
        "At t=9.72957\n",
        "Solver converged in 1 iterations\n",
        "At t=11.6751\n",
        "Solver converged in 1 iterations\n",
        "At t=13.6206\n",
        "Solver converged in 1 iterations\n",
        "At t=15.5661\n",
        "Solver converged in 1 iterations\n",
        "At t=17.5117\n",
        "Solver converged in 1 iterations\n",
        "At t=19.4553\n",
        "Solver converged in 1 iterations\n"
       ]
      },
      {
       "output_type": "stream",
       "stream": "stdout",
       "text": [
        "\n",
        "\n",
        "CPU times: user 736 ms, sys: 40 ms, total: 776 ms"
       ]
      },
      {
       "output_type": "stream",
       "stream": "stdout",
       "text": [
        "\n",
        "Wall time: 2min 58s\n"
       ]
      },
      {
       "metadata": {},
       "output_type": "display_data",
       "png": "[encoded data removed]",
       "text": [
        "<matplotlib.figure.Figure at 0x500b890>"
       ]
      },
      {
       "metadata": {},
       "output_type": "display_data",
       "png": "[encoded data removed]",
       "text": [
        "<matplotlib.figure.Figure at 0x4b2a210>"
       ]
      },
      {
       "metadata": {},
       "output_type": "display_data",
       "png": "[encoded data removed]",
       "text": [
        "<matplotlib.figure.Figure at 0x3255350>"
       ]
      },
      {
       "metadata": {},
       "output_type": "display_data",
       "png": "[encoded data removed]",
       "text": [
        "<matplotlib.figure.Figure at 0x3a1f910>"
       ]
      },
      {
       "metadata": {},
       "output_type": "display_data",
       "png": "[encoded data removed]",
       "text": [
        "<matplotlib.figure.Figure at 0x35f5a50>"
       ]
      },
      {
       "metadata": {},
       "output_type": "display_data",
       "png": "[encoded data removed]",
       "text": [
        "<matplotlib.figure.Figure at 0x4b05310>"
       ]
      },
      {
       "metadata": {},
       "output_type": "display_data",
       "png": "[encoded data removed]",
       "text": [
        "<matplotlib.figure.Figure at 0x3255d10>"
       ]
      },
      {
       "metadata": {},
       "output_type": "display_data",
       "png": "[encoded data removed]",
       "text": [
        "<matplotlib.figure.Figure at 0x4738690>"
       ]
      }
     ],
     "prompt_number": 224
    },
    {
     "cell_type": "code",
     "collapsed": false,
     "input": [
      "def test_TDM():\n",
      "    inputs = input_file()\n",
      "    inputs[\"test_id\"] = test_enum[\"TDM\"]\n",
      "    inputs.write()\n",
      "    \n",
      "    sim = sp.Popen(executable,cwd=\".\",stdout=sp.PIPE,stderr=sp.PIPE)\n",
      "    sim.wait()\n",
      "    for line in sim.communicate():\n",
      "        if \"Error in TDM= 0\" in line:\n",
      "            return True\n",
      "        else:\n",
      "            return False\n"
     ],
     "language": "python",
     "metadata": {},
     "outputs": [],
     "prompt_number": 135
    },
    {
     "cell_type": "code",
     "collapsed": false,
     "input": [
      "tests = [input_output,sor_simple,euler,test_TDM,adi_simple]\n",
      "output = []\n",
      "for test in tests:\n",
      "    output.append(test())\n",
      "\n",
      "print(\"Test summary\",output)"
     ],
     "language": "python",
     "metadata": {},
     "outputs": [
      {
       "output_type": "stream",
       "stream": "stdout",
       "text": [
        "0.000202636663902\n",
        "0.000271052527795"
       ]
      },
      {
       "output_type": "stream",
       "stream": "stdout",
       "text": [
        "\n",
        "0.000202636663902"
       ]
      },
      {
       "output_type": "stream",
       "stream": "stdout",
       "text": [
        "\n",
        "('Test summary', [True, True, True, True, True])\n"
       ]
      },
      {
       "metadata": {},
       "output_type": "display_data",
       "png": "[encoded data removed]",
       "text": [
        "<matplotlib.figure.Figure at 0x35e3690>"
       ]
      },
      {
       "metadata": {},
       "output_type": "display_data",
       "png": "[encoded data removed]",
       "text": [
        "<matplotlib.figure.Figure at 0xe03b4d0>"
       ]
      }
     ],
     "prompt_number": 246
    },
    {
     "cell_type": "code",
     "collapsed": false,
     "input": [],
     "language": "python",
     "metadata": {},
     "outputs": [
      {
       "output_type": "stream",
       "stream": "stdout",
       "text": [
        "Error in TDM= 0\n",
        "\n",
        "\n"
       ]
      }
     ],
     "prompt_number": 14
    },
    {
     "cell_type": "code",
     "collapsed": false,
     "input": [
      "error_sor = []\n",
      "error_adi = []\n",
      "grids = [3,5,9,17,33,65,129]\n",
      "tolerances = [1E-1,1E-2,1E-3,1E-4,1E-5,1E-6]\n",
      "tolerances = [1E-3,1E-5,1E-7,1E-9]\n",
      "\n",
      "\n",
      "for tol in tolerances:\n",
      "    tol_error = []\n",
      "    for nx in grids:\n",
      "        tol_error.append(max(solver_tests(nx,nx,tol,1.3,\"sor\",plot=False)))\n",
      "    error_sor.append(tol_error)\n",
      "\n"
     ],
     "language": "python",
     "metadata": {},
     "outputs": [],
     "prompt_number": 250
    },
    {
     "cell_type": "code",
     "collapsed": false,
     "input": [
      "for tol in tolerances:\n",
      "    tol_error = []\n",
      "    for nx in grids:\n",
      "        tol_error.append(max(solver_tests(nx,nx,tol,1.3,\"adi\",plot=False)))\n",
      "    error_adi.append(tol_error)"
     ],
     "language": "python",
     "metadata": {},
     "outputs": [],
     "prompt_number": 251
    },
    {
     "cell_type": "code",
     "collapsed": false,
     "input": [
      "for tol,err in zip(tolerances,error_sor):\n",
      "    pl.loglog(grids,err,'-*',label=\"Tolerance= \"+str(tol)+\" SOR\")\n",
      "for tol,err in zip(tolerances,error_adi):\n",
      "    pl.loglog(grids,err,'-o',label=\"Tolerance= \"+str(tol)+\" ADI\")\n",
      "pl.loglog(grids,1./np.array(grids)**2*3**2*error_adi[0][1],label=\"-2 slope\")\n",
      "pl.gca().legend(bbox_to_anchor=[1.5,1])"
     ],
     "language": "python",
     "metadata": {},
     "outputs": [
      {
       "metadata": {},
       "output_type": "pyout",
       "prompt_number": 261,
       "text": [
        "<matplotlib.legend.Legend at 0x72fdfd0>"
       ]
      },
      {
       "metadata": {},
       "output_type": "display_data",
       "png": "[encoded data removed]",
       "text": [
        "<matplotlib.figure.Figure at 0x72e73d0>"
       ]
      }
     ],
     "prompt_number": 261
    },
    {
     "cell_type": "code",
     "collapsed": false,
     "input": [
      "grids = [3,5,9,17,33,65,129,257,513,1025]\n",
      "error = []\n",
      "for nx in grids:\n",
      "    error.append(euler_test(nx,nx,plot=False))\n",
      "pl.loglog(grids,error)    \n",
      "pl.loglog(grids,1./np.array(grids)**2*3**2*error[0])"
     ],
     "language": "python",
     "metadata": {},
     "outputs": [
      {
       "metadata": {},
       "output_type": "pyout",
       "prompt_number": 228,
       "text": [
        "[<matplotlib.lines.Line2D at 0x60462d0>]"
       ]
      },
      {
       "metadata": {},
       "output_type": "display_data",
       "png": "[encoded data removed]",
       "text": [
        "<matplotlib.figure.Figure at 0x48b8ad0>"
       ]
      }
     ],
     "prompt_number": 228
    },
    {
     "cell_type": "code",
     "collapsed": false,
     "input": [
      "cp /home/jan/Downloads/GhiaEtAl-* .\n"
     ],
     "language": "python",
     "metadata": {},
     "outputs": [],
     "prompt_number": 171
    },
    {
     "cell_type": "code",
     "collapsed": false,
     "input": [
      "rho = 1.732\n",
      "A=np.array([[2*(1+rho),-1],[-1,2*(1+rho)]])\n"
     ],
     "language": "python",
     "metadata": {},
     "outputs": [],
     "prompt_number": 106
    },
    {
     "cell_type": "code",
     "collapsed": false,
     "input": [
      "A"
     ],
     "language": "python",
     "metadata": {},
     "outputs": [
      {
       "metadata": {},
       "output_type": "pyout",
       "prompt_number": 107,
       "text": [
        "array([[ 5.464, -1.   ],\n",
        "       [-1.   ,  5.464]])"
       ]
      }
     ],
     "prompt_number": 107
    },
    {
     "cell_type": "code",
     "collapsed": false,
     "input": [
      "1-2*(1-rho)\n"
     ],
     "language": "python",
     "metadata": {},
     "outputs": [
      {
       "metadata": {},
       "output_type": "pyout",
       "prompt_number": 108,
       "text": [
        "2.464"
       ]
      }
     ],
     "prompt_number": 108
    },
    {
     "cell_type": "code",
     "collapsed": false,
     "input": [
      "-3.14**2*2*np.sin(0.33)*np.sin(0.33)*0.33*0.33"
     ],
     "language": "python",
     "metadata": {},
     "outputs": [
      {
       "metadata": {},
       "output_type": "pyout",
       "prompt_number": 109,
       "text": [
        "-0.22548753352238235"
       ]
      }
     ],
     "prompt_number": 109
    },
    {
     "cell_type": "code",
     "collapsed": false,
     "input": [
      "1.-2*(1.-rho)-np.pi**2*2*np.sin(0.6666*np.pi)*np.sin(0.666666*np.pi)*0.3333*0.33333\n",
      "\n"
     ],
     "language": "python",
     "metadata": {},
     "outputs": [
      {
       "metadata": {},
       "output_type": "pyout",
       "prompt_number": 114,
       "text": [
        "0.81904603777924501"
       ]
      }
     ],
     "prompt_number": 114
    },
    {
     "cell_type": "code",
     "collapsed": false,
     "input": [
      "b = [1.-2*(1.-rho)-np.pi**2*2*np.sin(0.6666*np.pi)*np.sin(0.666666*np.pi)*0.3333*0.33333,1.-2*(1.-rho)-np.pi**2*2*np.sin(0.6666*np.pi)*np.sin(0.666666*np.pi)*0.3333*0.33333\n",
      "]\n"
     ],
     "language": "python",
     "metadata": {},
     "outputs": [],
     "prompt_number": 115
    },
    {
     "cell_type": "code",
     "collapsed": false,
     "input": [
      "import scipy.linalg as lin"
     ],
     "language": "python",
     "metadata": {},
     "outputs": [],
     "prompt_number": 116
    },
    {
     "cell_type": "code",
     "collapsed": false,
     "input": [
      "lin.solve(A,b)"
     ],
     "language": "python",
     "metadata": {},
     "outputs": [
      {
       "metadata": {},
       "output_type": "pyout",
       "prompt_number": 117,
       "text": [
        "array([ 0.18347806,  0.18347806])"
       ]
      }
     ],
     "prompt_number": 117
    },
    {
     "cell_type": "code",
     "collapsed": false,
     "input": [],
     "language": "python",
     "metadata": {},
     "outputs": []
    }
   ],
   "metadata": {}
  }
 ]
}